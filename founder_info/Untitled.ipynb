{
 "cells": [
  {
   "cell_type": "code",
   "execution_count": null,
   "metadata": {},
   "outputs": [],
   "source": []
  },
  {
   "cell_type": "code",
   "execution_count": 13,
   "metadata": {},
   "outputs": [],
   "source": [
    "import requests\n",
    "import csv\n",
    "import time\n",
    "KEY = 'a06e623cd04b0c8bc4348819794bbd53'\n",
    "COMPANY_ROW_NUM = [31, 37, 43, 49, 55, 61, 67, 73, 79, 85, 91, 96, 101, 106, 111, 116, 121, 126, 131, 136]\n",
    "TITLE = ['Company Name', 'Number of Employees', 'Funding','Categories']\n",
    "\n",
    "company_ids = set()\n",
    "with open('Updated Data.tsv', mode='r') as csv_file:\n",
    "    csv_reader = csv.reader(csv_file, delimiter='\\t')\n",
    "    for row in csv_reader:\n",
    "        if row[0] == 'Company ID':\n",
    "            continue\n",
    "        company_ids.update([row[x] for x in COMPANY_ROW_NUM if row[x] != ''])\n",
    "company_ids = list(company_names)\n",
    "\n",
    "\n"
   ]
  },
  {
   "cell_type": "code",
   "execution_count": 14,
   "metadata": {},
   "outputs": [
    {
     "data": {
      "text/plain": [
       "[['Company ID',\n",
       "  'Company ID',\n",
       "  'Company ID',\n",
       "  'Company ID',\n",
       "  'Company ID',\n",
       "  'Company ID',\n",
       "  'Company ID',\n",
       "  'Company ID',\n",
       "  'Company ID',\n",
       "  'Company ID',\n",
       "  'Work Company ID',\n",
       "  'Work Company ID',\n",
       "  'Work Company ID',\n",
       "  'Work Company ID',\n",
       "  'Work Company ID',\n",
       "  'Work Company ID',\n",
       "  'Work Company ID',\n",
       "  'Work Company ID',\n",
       "  'Work Company ID',\n",
       "  'Work Company ID']]"
      ]
     },
     "execution_count": 14,
     "metadata": {},
     "output_type": "execute_result"
    }
   ],
   "source": [
    "company_ids"
   ]
  },
  {
   "cell_type": "code",
   "execution_count": null,
   "metadata": {},
   "outputs": [],
   "source": []
  },
  {
   "cell_type": "code",
   "execution_count": null,
   "metadata": {},
   "outputs": [],
   "source": [
    "\n",
    "\n",
    "cannotfind = []\n",
    "with open('company_data.tsv', mode='w') as data_file:\n",
    "    writer = csv.writer(data_file, delimiter='\\t', quotechar='\"')\n",
    "    writer.writerow(TITLE)\n",
    "    \n",
    "    index = 0\n",
    "    page = 1\n",
    "    while index < len(company_names):\n",
    "        name = company_names[index]\n",
    "        response = requests.get(\n",
    "        'https://api.crunchbase.com/v3.1/organizations',\n",
    "        params={'name': name, 'page':page, 'user_key': KEY})\n",
    "        \n",
    "        if (response.status_code != 200):\n",
    "            time.sleep(60)\n",
    "            continue\n",
    "            \n",
    "        response = response.json()['data']['items']\n",
    "\n",
    "        if len(response) == 0:\n",
    "            print('Cannot Find ' + name)\n",
    "            cannotfind.append(name)\n",
    "            page = 1\n",
    "            index += 1\n",
    "            continue\n",
    "            \n",
    "        found_match = False\n",
    "        for company in response:\n",
    "            if company['properties']['name'] != name:\n",
    "                continue\n",
    "            \n",
    "            found_match = True\n",
    "            id = company['uuid']\n",
    "            \n",
    "            response = requests.get(\n",
    "            'https://api.crunchbase.com/v3.1/organizations/' + id,\n",
    "            params={'user_key': KEY})\n",
    "            \n",
    "            if (response.status_code != 200):\n",
    "                time.sleep(60)\n",
    "                continue\n",
    "            \n",
    "            response = response.json()['data']\n",
    "            \n",
    "            company_name = response['properties']['name']\n",
    "            employee_min = response['properties']['num_employees_min']\n",
    "            employee_max = response['properties']['num_employees_max']\n",
    "            funding = response['properties']['total_funding_usd']\n",
    "            categories = response['relationships']['categories']['items']\n",
    "            category_data = []\n",
    "            for category in categories:\n",
    "                category_data.append(category['properties']['name'])\n",
    "            \n",
    "            data_row = [company_name, '-'.join([str(x) for x in [employee_min, employee_max]]), funding, ','.join(category_data)]\n",
    "            writer.writerow(data_row)\n",
    "            \n",
    "        if not found_match:\n",
    "            page += 1\n",
    "            continue\n",
    "        page = 1\n",
    "        index += 1\n",
    "        if (index % 100 == 0):\n",
    "            print('=============Current Progress===============  ' + str(index))\n",
    "            \n",
    "print(\"Cannot find:\")\n",
    "print(cannotfind)"
   ]
  }
 ],
 "metadata": {
  "kernelspec": {
   "display_name": "Python 3",
   "language": "python",
   "name": "python3"
  },
  "language_info": {
   "codemirror_mode": {
    "name": "ipython",
    "version": 3
   },
   "file_extension": ".py",
   "mimetype": "text/x-python",
   "name": "python",
   "nbconvert_exporter": "python",
   "pygments_lexer": "ipython3",
   "version": "3.7.3"
  }
 },
 "nbformat": 4,
 "nbformat_minor": 2
}
