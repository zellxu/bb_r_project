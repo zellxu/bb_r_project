{
 "cells": [
  {
   "cell_type": "markdown",
   "metadata": {},
   "source": [
    "# 1- Data Preparation and Cleaning"
   ]
  },
  {
   "cell_type": "code",
   "execution_count": 1,
   "metadata": {},
   "outputs": [],
   "source": [
    "# #plotly.offline doesn't push your charts to the clouds\n",
    "# import plotly.offline as pyo\n",
    "# #allows us to create the Data and Figure objects\n",
    "# from plotly.graph_objs import *\n",
    "# #plotly.plotly pushes your charts to the cloud  \n",
    "# # import chart_studio.plotly as py\n",
    "# import plotly.figure_factory as ff\n",
    "# # import plotly.express as px\n",
    "\n",
    "# import matplotlib.pyplot as plt\n",
    "# %matplotlib inline\n",
    "\n",
    "# # import cufflings to easily plot pandas data frames\n",
    "# import cufflinks as cf\n",
    "# # work with cufflinks offline and set its theme\n",
    "# cf.go_offline()\n",
    "# cf.set_config_file(theme='pearl')\n",
    "\n",
    "import pandas as pd\n",
    "import numpy as np\n",
    "\n",
    "# from utils import *\n",
    "\n",
    "import os\n",
    "import gc\n",
    "import json\n",
    "import re\n",
    "import gzip, pickle"
   ]
  },
  {
   "cell_type": "code",
   "execution_count": 2,
   "metadata": {},
   "outputs": [],
   "source": [
    "def print_full(x):\n",
    "    pd.set_option('display.max_colwidth', -1)\n",
    "    return x\n",
    "\n",
    "def reset():\n",
    "    pd.reset_option('display.max_colwidth')"
   ]
  },
  {
   "cell_type": "code",
   "execution_count": 3,
   "metadata": {},
   "outputs": [],
   "source": [
    "#cat RC_askmen_2018_1.gz RC_askmen_2018_2.gz RC_askmen_2018_3.gz RC_askmen_2018_4.gz RC_askmen_2018_5.gz RC_askmen_2018_6.gz RC_askmen_2018_7.gz RC_askmen_2018_8.gz RC_askmen_2018_9.gz RC_askmen_2018_10.gz > askmen_2018.gz\n",
    "#cat RC_askwomen_2018_1.gz RC_askwomen_2018_2.gz RC_askwomen_2018_3.gz RC_askwomen_2018_4.gz RC_askwomen_2018_5.gz RC_askwomen_2018_6.gz RC_askwomen_2018_7.gz RC_askwomen_2018_8.gz RC_askwomen_2018_9.gz RC_askwomen_2018_10.gz > askwomen_2018.gz\n",
    "#cat RC_relationships_2018_1.gz RC_relationships_2018_2.gz RC_relationships_2018_3.gz RC_relationships_2018_4.gz RC_relationships_2018_5.gz RC_relationships_2018_6.gz RC_relationships_2018_7.gz RC_relationships_2018_8.gz RC_relationships_2018_9.gz RC_relationships_2018_10.gz > relationships_2018.gz\n",
    "\n",
    "# import gzip, pandas as pd, json, pickle\n",
    "# %matplotlib inline"
   ]
  },
  {
   "cell_type": "code",
   "execution_count": 4,
   "metadata": {},
   "outputs": [],
   "source": [
    "def read_and_filter(file_path, filter_by='gender', chunksize=100000):\n",
    "    \n",
    "    row_count = 0\n",
    "    df_res = pd.DataFrame()\n",
    "    for chunk in pd.read_json(file_path, lines=True, chunksize=100000):\n",
    "        chunk = chunk[~chunk[filter_by].isnull()]\n",
    "        df_res = pd.concat([df_res, chunk], ignore_index=True)\n",
    "        \n",
    "        # report progress\n",
    "        row_count += chunksize\n",
    "        if row_count % (3*chunksize) == 0:\n",
    "            print(f'parsed {row_count} rows')\n",
    "        \n",
    "    return df_res\n",
    "\n",
    "\n",
    "    "
   ]
  },
  {
   "cell_type": "code",
   "execution_count": 10,
   "metadata": {},
   "outputs": [
    {
     "name": "stdout",
     "output_type": "stream",
     "text": [
      "parsed 300000 rows\n",
      "parsed 600000 rows\n",
      "parsed 900000 rows\n",
      "parsed 1200000 rows\n",
      "parsed 1500000 rows\n",
      "CPU times: user 2min 11s, sys: 10.3 s, total: 2min 22s\n",
      "Wall time: 1min 45s\n"
     ]
    }
   ],
   "source": [
    "%%time\n",
    "df_askmen = read_and_filter('askMen2018')"
   ]
  },
  {
   "cell_type": "code",
   "execution_count": 11,
   "metadata": {},
   "outputs": [
    {
     "data": {
      "text/plain": [
       "1083.3202085494995"
      ]
     },
     "execution_count": 11,
     "metadata": {},
     "output_type": "execute_result"
    }
   ],
   "source": [
    "df_askmen.memory_usage(deep=True).sum()/1024**2"
   ]
  },
  {
   "cell_type": "code",
   "execution_count": 12,
   "metadata": {},
   "outputs": [
    {
     "data": {
      "text/plain": [
       "185.96623039245605"
      ]
     },
     "execution_count": 12,
     "metadata": {},
     "output_type": "execute_result"
    }
   ],
   "source": [
    "df_askmen['body'].memory_usage(deep=True)/1024**2"
   ]
  },
  {
   "cell_type": "code",
   "execution_count": 13,
   "metadata": {},
   "outputs": [
    {
     "name": "stdout",
     "output_type": "stream",
     "text": [
      "<class 'pandas.core.frame.DataFrame'>\n",
      "RangeIndex: 601697 entries, 0 to 601696\n",
      "Data columns (total 52 columns):\n",
      "author                           601697 non-null object\n",
      "author_flair_css_class           426450 non-null object\n",
      "author_flair_text                450696 non-null object\n",
      "body                             601697 non-null object\n",
      "can_gild                         601697 non-null bool\n",
      "controversiality                 601697 non-null int64\n",
      "created_utc                      601697 non-null int64\n",
      "distinguished                    28094 non-null object\n",
      "edited                           601697 non-null int64\n",
      "gilded                           601697 non-null int64\n",
      "id                               601697 non-null object\n",
      "is_submitter                     601697 non-null bool\n",
      "link_id                          601697 non-null object\n",
      "parent_id                        601697 non-null object\n",
      "permalink                        601697 non-null object\n",
      "retrieved_on                     601697 non-null int64\n",
      "score                            601697 non-null int64\n",
      "stickied                         601697 non-null bool\n",
      "subreddit                        601697 non-null object\n",
      "subreddit_id                     601697 non-null object\n",
      "subreddit_type                   601697 non-null object\n",
      "author_cakeday                   2260 non-null float64\n",
      "no_follow                        481669 non-null float64\n",
      "send_replies                     481669 non-null float64\n",
      "author_flair_template_id         134191 non-null object\n",
      "approved_by                      0 non-null float64\n",
      "banned_by                        0 non-null float64\n",
      "body_html                        23797 non-null object\n",
      "likes                            0 non-null float64\n",
      "mod_reports                      23797 non-null object\n",
      "num_reports                      0 non-null float64\n",
      "removal_reason                   0 non-null float64\n",
      "replies                          23797 non-null object\n",
      "report_reasons                   0 non-null float64\n",
      "saved                            23797 non-null float64\n",
      "user_reports                     23797 non-null object\n",
      "archived                         418460 non-null float64\n",
      "can_mod_post                     418460 non-null float64\n",
      "score_hidden                     235442 non-null float64\n",
      "author_flair_background_color    209384 non-null object\n",
      "author_flair_richtext            299376 non-null object\n",
      "author_flair_text_color          209384 non-null object\n",
      "author_flair_type                299376 non-null object\n",
      "rte_mode                         57817 non-null object\n",
      "author_created_utc               241341 non-null float64\n",
      "author_fullname                  241559 non-null object\n",
      "collapsed                        241559 non-null float64\n",
      "collapsed_reason                 1749 non-null object\n",
      "subreddit_name_prefixed          241559 non-null object\n",
      "gildings                         140798 non-null object\n",
      "author_patreon_flair             66048 non-null float64\n",
      "gender                           601697 non-null object\n",
      "dtypes: bool(3), float64(16), int64(6), object(27)\n",
      "memory usage: 226.7+ MB\n"
     ]
    }
   ],
   "source": [
    "df_askmen.info()"
   ]
  },
  {
   "cell_type": "markdown",
   "metadata": {},
   "source": [
    "### Reducing Data Size"
   ]
  },
  {
   "cell_type": "markdown",
   "metadata": {},
   "source": [
    "Note that the data contains a lot of of `object` data-type columns. Let's convert those to `category` data type, which is much more memory efficient"
   ]
  },
  {
   "cell_type": "code",
   "execution_count": 14,
   "metadata": {},
   "outputs": [
    {
     "data": {
      "text/plain": [
       "{'author': 'category',\n",
       " 'author_flair_css_class': 'category',\n",
       " 'author_flair_text': 'category',\n",
       " 'distinguished': 'category',\n",
       " 'id': 'category',\n",
       " 'link_id': 'category',\n",
       " 'parent_id': 'category',\n",
       " 'permalink': 'category',\n",
       " 'subreddit': 'category',\n",
       " 'subreddit_id': 'category',\n",
       " 'subreddit_type': 'category',\n",
       " 'author_flair_template_id': 'category',\n",
       " 'body_html': 'category',\n",
       " 'replies': 'category',\n",
       " 'author_flair_background_color': 'category',\n",
       " 'author_flair_text_color': 'category',\n",
       " 'author_flair_type': 'category',\n",
       " 'rte_mode': 'category',\n",
       " 'author_fullname': 'category',\n",
       " 'collapsed_reason': 'category',\n",
       " 'subreddit_name_prefixed': 'category',\n",
       " 'gender': 'category'}"
      ]
     },
     "execution_count": 14,
     "metadata": {},
     "output_type": "execute_result"
    }
   ],
   "source": [
    "categoricals = [col for col in df_askmen if df_askmen[col].dtype=='object' \\\n",
    "                if not col in ['mod_reports', 'user_reports', 'author_flair_richtext', 'gildings', 'body']]\n",
    "\n",
    "data_types = {col: 'category' for col in categoricals}; data_types"
   ]
  },
  {
   "cell_type": "code",
   "execution_count": 10,
   "metadata": {},
   "outputs": [],
   "source": [
    "# conda install seaborn"
   ]
  },
  {
   "cell_type": "code",
   "execution_count": 15,
   "metadata": {},
   "outputs": [
    {
     "data": {
      "text/plain": [
       "Index(['author', 'author_flair_css_class', 'author_flair_text', 'body',\n",
       "       'can_gild', 'controversiality', 'created_utc', 'distinguished',\n",
       "       'edited', 'gilded', 'id', 'is_submitter', 'link_id', 'parent_id',\n",
       "       'permalink', 'retrieved_on', 'score', 'stickied', 'subreddit',\n",
       "       'subreddit_id', 'subreddit_type', 'author_cakeday', 'no_follow',\n",
       "       'send_replies', 'author_flair_template_id', 'approved_by', 'banned_by',\n",
       "       'body_html', 'likes', 'mod_reports', 'num_reports', 'removal_reason',\n",
       "       'replies', 'report_reasons', 'saved', 'user_reports', 'archived',\n",
       "       'can_mod_post', 'score_hidden', 'author_flair_background_color',\n",
       "       'author_flair_richtext', 'author_flair_text_color', 'author_flair_type',\n",
       "       'rte_mode', 'author_created_utc', 'author_fullname', 'collapsed',\n",
       "       'collapsed_reason', 'subreddit_name_prefixed', 'gildings',\n",
       "       'author_patreon_flair', 'gender'],\n",
       "      dtype='object')"
      ]
     },
     "execution_count": 15,
     "metadata": {},
     "output_type": "execute_result"
    }
   ],
   "source": [
    "df_askmen.columns"
   ]
  },
  {
   "cell_type": "code",
   "execution_count": 16,
   "metadata": {},
   "outputs": [
    {
     "data": {
      "text/plain": [
       "<class 'float'>       520392\n",
       "<class 'NoneType'>     57508\n",
       "<class 'list'>         23797\n",
       "Name: mod_reports, dtype: int64"
      ]
     },
     "execution_count": 16,
     "metadata": {},
     "output_type": "execute_result"
    }
   ],
   "source": [
    "df_askmen['mod_reports'].apply(type).value_counts()"
   ]
  },
  {
   "cell_type": "code",
   "execution_count": 17,
   "metadata": {},
   "outputs": [],
   "source": [
    "df_askmen[categoricals] = df_askmen[categoricals].apply(lambda col: col.astype('category'))"
   ]
  },
  {
   "cell_type": "code",
   "execution_count": 18,
   "metadata": {},
   "outputs": [
    {
     "name": "stdout",
     "output_type": "stream",
     "text": [
      "<class 'pandas.core.frame.DataFrame'>\n",
      "RangeIndex: 601697 entries, 0 to 601696\n",
      "Data columns (total 52 columns):\n",
      "author                           601697 non-null category\n",
      "author_flair_css_class           426450 non-null category\n",
      "author_flair_text                450696 non-null category\n",
      "body                             601697 non-null object\n",
      "can_gild                         601697 non-null bool\n",
      "controversiality                 601697 non-null int64\n",
      "created_utc                      601697 non-null int64\n",
      "distinguished                    28094 non-null category\n",
      "edited                           601697 non-null int64\n",
      "gilded                           601697 non-null int64\n",
      "id                               601697 non-null category\n",
      "is_submitter                     601697 non-null bool\n",
      "link_id                          601697 non-null category\n",
      "parent_id                        601697 non-null category\n",
      "permalink                        601697 non-null category\n",
      "retrieved_on                     601697 non-null int64\n",
      "score                            601697 non-null int64\n",
      "stickied                         601697 non-null bool\n",
      "subreddit                        601697 non-null category\n",
      "subreddit_id                     601697 non-null category\n",
      "subreddit_type                   601697 non-null category\n",
      "author_cakeday                   2260 non-null float64\n",
      "no_follow                        481669 non-null float64\n",
      "send_replies                     481669 non-null float64\n",
      "author_flair_template_id         134191 non-null category\n",
      "approved_by                      0 non-null float64\n",
      "banned_by                        0 non-null float64\n",
      "body_html                        23797 non-null category\n",
      "likes                            0 non-null float64\n",
      "mod_reports                      23797 non-null object\n",
      "num_reports                      0 non-null float64\n",
      "removal_reason                   0 non-null float64\n",
      "replies                          23797 non-null category\n",
      "report_reasons                   0 non-null float64\n",
      "saved                            23797 non-null float64\n",
      "user_reports                     23797 non-null object\n",
      "archived                         418460 non-null float64\n",
      "can_mod_post                     418460 non-null float64\n",
      "score_hidden                     235442 non-null float64\n",
      "author_flair_background_color    209384 non-null category\n",
      "author_flair_richtext            299376 non-null object\n",
      "author_flair_text_color          209384 non-null category\n",
      "author_flair_type                299376 non-null category\n",
      "rte_mode                         57817 non-null category\n",
      "author_created_utc               241341 non-null float64\n",
      "author_fullname                  241559 non-null category\n",
      "collapsed                        241559 non-null float64\n",
      "collapsed_reason                 1749 non-null category\n",
      "subreddit_name_prefixed          241559 non-null category\n",
      "gildings                         140798 non-null object\n",
      "author_patreon_flair             66048 non-null float64\n",
      "gender                           601697 non-null category\n",
      "dtypes: bool(3), category(22), float64(16), int64(6), object(5)\n",
      "memory usage: 214.3+ MB\n"
     ]
    }
   ],
   "source": [
    "df_askmen.info()"
   ]
  },
  {
   "cell_type": "code",
   "execution_count": 19,
   "metadata": {},
   "outputs": [
    {
     "data": {
      "text/plain": [
       "623.8097133636475"
      ]
     },
     "execution_count": 19,
     "metadata": {},
     "output_type": "execute_result"
    }
   ],
   "source": [
    "df_askmen.memory_usage(deep=True).sum()/1024**2"
   ]
  },
  {
   "cell_type": "code",
   "execution_count": 20,
   "metadata": {},
   "outputs": [],
   "source": [
    "df_askmen.to_json(\"askMen2018_clean.json\", orient='table')"
   ]
  },
  {
   "cell_type": "code",
   "execution_count": 21,
   "metadata": {},
   "outputs": [],
   "source": [
    "df_askmen_new = pd.read_json(\"askMen2018_clean.json\", orient='table')"
   ]
  },
  {
   "cell_type": "code",
   "execution_count": 22,
   "metadata": {},
   "outputs": [
    {
     "data": {
      "text/html": [
       "<div>\n",
       "<style scoped>\n",
       "    .dataframe tbody tr th:only-of-type {\n",
       "        vertical-align: middle;\n",
       "    }\n",
       "\n",
       "    .dataframe tbody tr th {\n",
       "        vertical-align: top;\n",
       "    }\n",
       "\n",
       "    .dataframe thead th {\n",
       "        text-align: right;\n",
       "    }\n",
       "</style>\n",
       "<table border=\"1\" class=\"dataframe\">\n",
       "  <thead>\n",
       "    <tr style=\"text-align: right;\">\n",
       "      <th></th>\n",
       "      <th>author</th>\n",
       "      <th>author_flair_css_class</th>\n",
       "      <th>author_flair_text</th>\n",
       "      <th>body</th>\n",
       "      <th>can_gild</th>\n",
       "      <th>controversiality</th>\n",
       "      <th>created_utc</th>\n",
       "      <th>distinguished</th>\n",
       "      <th>edited</th>\n",
       "      <th>gilded</th>\n",
       "      <th>...</th>\n",
       "      <th>author_flair_type</th>\n",
       "      <th>rte_mode</th>\n",
       "      <th>author_created_utc</th>\n",
       "      <th>author_fullname</th>\n",
       "      <th>collapsed</th>\n",
       "      <th>collapsed_reason</th>\n",
       "      <th>subreddit_name_prefixed</th>\n",
       "      <th>gildings</th>\n",
       "      <th>author_patreon_flair</th>\n",
       "      <th>gender</th>\n",
       "    </tr>\n",
       "  </thead>\n",
       "  <tbody>\n",
       "    <tr>\n",
       "      <th>0</th>\n",
       "      <td>Mysta02</td>\n",
       "      <td>male</td>\n",
       "      <td>♂</td>\n",
       "      <td>I've never met an attractive woman that (given...</td>\n",
       "      <td>True</td>\n",
       "      <td>0</td>\n",
       "      <td>1514764807</td>\n",
       "      <td>NaN</td>\n",
       "      <td>0</td>\n",
       "      <td>0</td>\n",
       "      <td>...</td>\n",
       "      <td>NaN</td>\n",
       "      <td>NaN</td>\n",
       "      <td>NaN</td>\n",
       "      <td>NaN</td>\n",
       "      <td>NaN</td>\n",
       "      <td>NaN</td>\n",
       "      <td>NaN</td>\n",
       "      <td>None</td>\n",
       "      <td>NaN</td>\n",
       "      <td>m</td>\n",
       "    </tr>\n",
       "    <tr>\n",
       "      <th>1</th>\n",
       "      <td>TheCloned</td>\n",
       "      <td>male</td>\n",
       "      <td>♂</td>\n",
       "      <td>Ouch. Being ghosted on really sucks. I can't s...</td>\n",
       "      <td>True</td>\n",
       "      <td>0</td>\n",
       "      <td>1514764904</td>\n",
       "      <td>NaN</td>\n",
       "      <td>0</td>\n",
       "      <td>0</td>\n",
       "      <td>...</td>\n",
       "      <td>NaN</td>\n",
       "      <td>NaN</td>\n",
       "      <td>NaN</td>\n",
       "      <td>NaN</td>\n",
       "      <td>NaN</td>\n",
       "      <td>NaN</td>\n",
       "      <td>NaN</td>\n",
       "      <td>None</td>\n",
       "      <td>NaN</td>\n",
       "      <td>m</td>\n",
       "    </tr>\n",
       "    <tr>\n",
       "      <th>2</th>\n",
       "      <td>Shaddow1</td>\n",
       "      <td>male</td>\n",
       "      <td>Male</td>\n",
       "      <td>Yeah exactly. Like I have no specific thoughts...</td>\n",
       "      <td>True</td>\n",
       "      <td>0</td>\n",
       "      <td>1514764939</td>\n",
       "      <td>NaN</td>\n",
       "      <td>0</td>\n",
       "      <td>0</td>\n",
       "      <td>...</td>\n",
       "      <td>NaN</td>\n",
       "      <td>NaN</td>\n",
       "      <td>NaN</td>\n",
       "      <td>NaN</td>\n",
       "      <td>NaN</td>\n",
       "      <td>NaN</td>\n",
       "      <td>NaN</td>\n",
       "      <td>None</td>\n",
       "      <td>NaN</td>\n",
       "      <td>m</td>\n",
       "    </tr>\n",
       "    <tr>\n",
       "      <th>3</th>\n",
       "      <td>Libida</td>\n",
       "      <td>female</td>\n",
       "      <td>Username Relevant</td>\n",
       "      <td>I touch my boobs then smell my hands. I have n...</td>\n",
       "      <td>True</td>\n",
       "      <td>0</td>\n",
       "      <td>1514764939</td>\n",
       "      <td>NaN</td>\n",
       "      <td>0</td>\n",
       "      <td>0</td>\n",
       "      <td>...</td>\n",
       "      <td>NaN</td>\n",
       "      <td>NaN</td>\n",
       "      <td>NaN</td>\n",
       "      <td>NaN</td>\n",
       "      <td>NaN</td>\n",
       "      <td>NaN</td>\n",
       "      <td>NaN</td>\n",
       "      <td>None</td>\n",
       "      <td>NaN</td>\n",
       "      <td>f</td>\n",
       "    </tr>\n",
       "    <tr>\n",
       "      <th>4</th>\n",
       "      <td>Shaddow1</td>\n",
       "      <td>male</td>\n",
       "      <td>Male</td>\n",
       "      <td>I’m on a college campus, it sticks around unti...</td>\n",
       "      <td>True</td>\n",
       "      <td>0</td>\n",
       "      <td>1514764972</td>\n",
       "      <td>NaN</td>\n",
       "      <td>0</td>\n",
       "      <td>0</td>\n",
       "      <td>...</td>\n",
       "      <td>NaN</td>\n",
       "      <td>NaN</td>\n",
       "      <td>NaN</td>\n",
       "      <td>NaN</td>\n",
       "      <td>NaN</td>\n",
       "      <td>NaN</td>\n",
       "      <td>NaN</td>\n",
       "      <td>None</td>\n",
       "      <td>NaN</td>\n",
       "      <td>m</td>\n",
       "    </tr>\n",
       "  </tbody>\n",
       "</table>\n",
       "<p>5 rows × 52 columns</p>\n",
       "</div>"
      ],
      "text/plain": [
       "      author author_flair_css_class   author_flair_text  \\\n",
       "0    Mysta02                   male                   ♂   \n",
       "1  TheCloned                   male                   ♂   \n",
       "2   Shaddow1                   male                Male   \n",
       "3     Libida                 female  Username Relevant    \n",
       "4   Shaddow1                   male                Male   \n",
       "\n",
       "                                                body  can_gild  \\\n",
       "0  I've never met an attractive woman that (given...      True   \n",
       "1  Ouch. Being ghosted on really sucks. I can't s...      True   \n",
       "2  Yeah exactly. Like I have no specific thoughts...      True   \n",
       "3  I touch my boobs then smell my hands. I have n...      True   \n",
       "4  I’m on a college campus, it sticks around unti...      True   \n",
       "\n",
       "   controversiality  created_utc distinguished  edited  gilded  ...  \\\n",
       "0                 0   1514764807           NaN       0       0  ...   \n",
       "1                 0   1514764904           NaN       0       0  ...   \n",
       "2                 0   1514764939           NaN       0       0  ...   \n",
       "3                 0   1514764939           NaN       0       0  ...   \n",
       "4                 0   1514764972           NaN       0       0  ...   \n",
       "\n",
       "  author_flair_type  rte_mode author_created_utc author_fullname collapsed  \\\n",
       "0               NaN       NaN                NaN             NaN       NaN   \n",
       "1               NaN       NaN                NaN             NaN       NaN   \n",
       "2               NaN       NaN                NaN             NaN       NaN   \n",
       "3               NaN       NaN                NaN             NaN       NaN   \n",
       "4               NaN       NaN                NaN             NaN       NaN   \n",
       "\n",
       "   collapsed_reason  subreddit_name_prefixed  gildings author_patreon_flair  \\\n",
       "0               NaN                      NaN      None                  NaN   \n",
       "1               NaN                      NaN      None                  NaN   \n",
       "2               NaN                      NaN      None                  NaN   \n",
       "3               NaN                      NaN      None                  NaN   \n",
       "4               NaN                      NaN      None                  NaN   \n",
       "\n",
       "  gender  \n",
       "0      m  \n",
       "1      m  \n",
       "2      m  \n",
       "3      f  \n",
       "4      m  \n",
       "\n",
       "[5 rows x 52 columns]"
      ]
     },
     "execution_count": 22,
     "metadata": {},
     "output_type": "execute_result"
    }
   ],
   "source": [
    "df_askmen_new.head()"
   ]
  },
  {
   "cell_type": "code",
   "execution_count": 23,
   "metadata": {},
   "outputs": [
    {
     "name": "stdout",
     "output_type": "stream",
     "text": [
      "<class 'pandas.core.frame.DataFrame'>\n",
      "Int64Index: 601697 entries, 0 to 601696\n",
      "Data columns (total 52 columns):\n",
      "author                           601697 non-null category\n",
      "author_flair_css_class           426450 non-null category\n",
      "author_flair_text                450696 non-null category\n",
      "body                             601697 non-null object\n",
      "can_gild                         601697 non-null bool\n",
      "controversiality                 601697 non-null int64\n",
      "created_utc                      601697 non-null int64\n",
      "distinguished                    28094 non-null category\n",
      "edited                           601697 non-null int64\n",
      "gilded                           601697 non-null int64\n",
      "id                               601697 non-null category\n",
      "is_submitter                     601697 non-null bool\n",
      "link_id                          601697 non-null category\n",
      "parent_id                        601697 non-null category\n",
      "permalink                        601697 non-null category\n",
      "retrieved_on                     601697 non-null int64\n",
      "score                            601697 non-null int64\n",
      "stickied                         601697 non-null bool\n",
      "subreddit                        601697 non-null category\n",
      "subreddit_id                     601697 non-null category\n",
      "subreddit_type                   601697 non-null category\n",
      "author_cakeday                   2260 non-null float64\n",
      "no_follow                        481669 non-null float64\n",
      "send_replies                     481669 non-null float64\n",
      "author_flair_template_id         134191 non-null category\n",
      "approved_by                      0 non-null float64\n",
      "banned_by                        0 non-null float64\n",
      "body_html                        23797 non-null category\n",
      "likes                            0 non-null float64\n",
      "mod_reports                      23797 non-null object\n",
      "num_reports                      0 non-null float64\n",
      "removal_reason                   0 non-null float64\n",
      "replies                          23797 non-null category\n",
      "report_reasons                   0 non-null float64\n",
      "saved                            23797 non-null float64\n",
      "user_reports                     23797 non-null object\n",
      "archived                         418460 non-null float64\n",
      "can_mod_post                     418460 non-null float64\n",
      "score_hidden                     235442 non-null float64\n",
      "author_flair_background_color    209384 non-null category\n",
      "author_flair_richtext            299376 non-null object\n",
      "author_flair_text_color          209384 non-null category\n",
      "author_flair_type                299376 non-null category\n",
      "rte_mode                         57817 non-null category\n",
      "author_created_utc               241341 non-null float64\n",
      "author_fullname                  241559 non-null category\n",
      "collapsed                        241559 non-null float64\n",
      "collapsed_reason                 1749 non-null category\n",
      "subreddit_name_prefixed          241559 non-null category\n",
      "gildings                         140798 non-null object\n",
      "author_patreon_flair             66048 non-null float64\n",
      "gender                           601697 non-null category\n",
      "dtypes: bool(3), category(22), float64(16), int64(6), object(5)\n",
      "memory usage: 218.9+ MB\n"
     ]
    }
   ],
   "source": [
    "df_askmen_new.info()"
   ]
  },
  {
   "cell_type": "code",
   "execution_count": 24,
   "metadata": {},
   "outputs": [
    {
     "data": {
      "text/plain": [
       "615.252965927124"
      ]
     },
     "execution_count": 24,
     "metadata": {},
     "output_type": "execute_result"
    }
   ],
   "source": [
    "df_askmen_new.memory_usage(deep=True).sum()/1024**2"
   ]
  },
  {
   "cell_type": "code",
   "execution_count": 25,
   "metadata": {},
   "outputs": [
    {
     "data": {
      "text/plain": [
       "True"
      ]
     },
     "execution_count": 25,
     "metadata": {},
     "output_type": "execute_result"
    }
   ],
   "source": [
    "df_askmen_new.equals(df_askmen)"
   ]
  },
  {
   "cell_type": "code",
   "execution_count": 26,
   "metadata": {},
   "outputs": [],
   "source": [
    "del df_askmen_new"
   ]
  },
  {
   "cell_type": "code",
   "execution_count": 27,
   "metadata": {},
   "outputs": [
    {
     "data": {
      "text/plain": [
       "110"
      ]
     },
     "execution_count": 27,
     "metadata": {},
     "output_type": "execute_result"
    }
   ],
   "source": [
    "gc.collect()"
   ]
  },
  {
   "cell_type": "markdown",
   "metadata": {},
   "source": [
    "#### Preparing the AskWomen DF"
   ]
  },
  {
   "cell_type": "code",
   "execution_count": 28,
   "metadata": {},
   "outputs": [
    {
     "name": "stdout",
     "output_type": "stream",
     "text": [
      "parsed 300000 rows\n",
      "parsed 600000 rows\n",
      "parsed 900000 rows\n",
      "parsed 1200000 rows\n",
      "CPU times: user 1min 43s, sys: 8.01 s, total: 1min 51s\n",
      "Wall time: 1min 25s\n"
     ]
    }
   ],
   "source": [
    "%%time\n",
    "df_askwomen = read_and_filter('askWomen2018')"
   ]
  },
  {
   "cell_type": "code",
   "execution_count": 29,
   "metadata": {},
   "outputs": [
    {
     "data": {
      "text/plain": [
       "True"
      ]
     },
     "execution_count": 29,
     "metadata": {},
     "output_type": "execute_result"
    }
   ],
   "source": [
    "all(df_askwomen.columns == df_askmen.columns)"
   ]
  },
  {
   "cell_type": "code",
   "execution_count": 30,
   "metadata": {},
   "outputs": [
    {
     "data": {
      "text/plain": [
       "963.7167196273804"
      ]
     },
     "execution_count": 30,
     "metadata": {},
     "output_type": "execute_result"
    }
   ],
   "source": [
    "df_askwomen.memory_usage(deep=True).sum()/1024**2"
   ]
  },
  {
   "cell_type": "code",
   "execution_count": 31,
   "metadata": {},
   "outputs": [],
   "source": [
    "df_askwomen[categoricals] = df_askwomen[categoricals].astype('category')"
   ]
  },
  {
   "cell_type": "code",
   "execution_count": null,
   "metadata": {},
   "outputs": [],
   "source": []
  },
  {
   "cell_type": "code",
   "execution_count": 33,
   "metadata": {},
   "outputs": [],
   "source": [
    "df_askwomen.to_json(\"askWomen2018_clean.json\", orient='table')"
   ]
  },
  {
   "cell_type": "code",
   "execution_count": 34,
   "metadata": {},
   "outputs": [
    {
     "data": {
      "text/plain": [
       "22"
      ]
     },
     "execution_count": 34,
     "metadata": {},
     "output_type": "execute_result"
    }
   ],
   "source": [
    "gc.collect()"
   ]
  },
  {
   "cell_type": "markdown",
   "metadata": {},
   "source": [
    "#### Preparing the relationships DF"
   ]
  },
  {
   "cell_type": "code",
   "execution_count": 36,
   "metadata": {},
   "outputs": [
    {
     "name": "stdout",
     "output_type": "stream",
     "text": [
      "parsed 300000 rows\n",
      "parsed 600000 rows\n",
      "parsed 900000 rows\n",
      "parsed 1200000 rows\n",
      "parsed 1500000 rows\n",
      "parsed 1800000 rows\n",
      "parsed 2100000 rows\n",
      "parsed 2400000 rows\n",
      "parsed 2700000 rows\n",
      "parsed 3000000 rows\n",
      "CPU times: user 4min 43s, sys: 23.3 s, total: 5min 7s\n",
      "Wall time: 3min 41s\n"
     ]
    }
   ],
   "source": [
    "%%time\n",
    "df_relation = read_and_filter('relationship2018')"
   ]
  },
  {
   "cell_type": "code",
   "execution_count": 37,
   "metadata": {},
   "outputs": [
    {
     "name": "stdout",
     "output_type": "stream",
     "text": [
      "<class 'pandas.core.frame.DataFrame'>\n",
      "RangeIndex: 704506 entries, 0 to 704505\n",
      "Data columns (total 52 columns):\n",
      "author                           704506 non-null object\n",
      "author_flair_css_class           0 non-null float64\n",
      "author_flair_text                0 non-null float64\n",
      "body                             704506 non-null object\n",
      "can_gild                         704506 non-null bool\n",
      "controversiality                 704506 non-null int64\n",
      "created_utc                      704506 non-null int64\n",
      "distinguished                    105777 non-null object\n",
      "edited                           704506 non-null int64\n",
      "gilded                           704506 non-null int64\n",
      "id                               704506 non-null object\n",
      "is_submitter                     704506 non-null bool\n",
      "link_id                          704506 non-null object\n",
      "parent_id                        704506 non-null object\n",
      "permalink                        704506 non-null object\n",
      "retrieved_on                     704506 non-null int64\n",
      "score                            704506 non-null int64\n",
      "stickied                         704506 non-null bool\n",
      "subreddit                        704506 non-null object\n",
      "subreddit_id                     704506 non-null object\n",
      "subreddit_type                   704506 non-null object\n",
      "author_cakeday                   1979 non-null float64\n",
      "no_follow                        547743 non-null float64\n",
      "send_replies                     547743 non-null float64\n",
      "author_flair_template_id         0 non-null float64\n",
      "approved_by                      0 non-null float64\n",
      "banned_by                        0 non-null float64\n",
      "body_html                        27638 non-null object\n",
      "likes                            0 non-null float64\n",
      "mod_reports                      27638 non-null object\n",
      "num_reports                      0 non-null float64\n",
      "removal_reason                   0 non-null float64\n",
      "replies                          27638 non-null object\n",
      "report_reasons                   0 non-null float64\n",
      "saved                            27638 non-null float64\n",
      "user_reports                     27638 non-null object\n",
      "archived                         470797 non-null float64\n",
      "can_mod_post                     470797 non-null float64\n",
      "score_hidden                     292631 non-null float64\n",
      "author_flair_background_color    0 non-null object\n",
      "author_flair_richtext            318826 non-null object\n",
      "author_flair_text_color          0 non-null object\n",
      "author_flair_type                318826 non-null object\n",
      "rte_mode                         70174 non-null object\n",
      "collapsed                        248652 non-null float64\n",
      "collapsed_reason                 3748 non-null object\n",
      "subreddit_name_prefixed          248652 non-null object\n",
      "author_created_utc               247899 non-null float64\n",
      "author_fullname                  248652 non-null object\n",
      "gildings                         131936 non-null object\n",
      "author_patreon_flair             53429 non-null float64\n",
      "gender                           704506 non-null object\n",
      "dtypes: bool(3), float64(19), int64(6), object(24)\n",
      "memory usage: 265.4+ MB\n"
     ]
    }
   ],
   "source": [
    "df_relation.info()"
   ]
  },
  {
   "cell_type": "code",
   "execution_count": 38,
   "metadata": {},
   "outputs": [
    {
     "data": {
      "text/plain": [
       "1374.600817680359"
      ]
     },
     "execution_count": 38,
     "metadata": {},
     "output_type": "execute_result"
    }
   ],
   "source": [
    "df_relation.memory_usage(deep=True).sum()/1024**2"
   ]
  },
  {
   "cell_type": "code",
   "execution_count": 39,
   "metadata": {},
   "outputs": [],
   "source": [
    "df_relation[categoricals] = df_relation[categoricals].astype('category')"
   ]
  },
  {
   "cell_type": "code",
   "execution_count": 40,
   "metadata": {},
   "outputs": [
    {
     "data": {
      "text/plain": [
       "955.7396154403687"
      ]
     },
     "execution_count": 40,
     "metadata": {},
     "output_type": "execute_result"
    }
   ],
   "source": [
    "df_relation.memory_usage(deep=True).sum()/1024**2"
   ]
  },
  {
   "cell_type": "code",
   "execution_count": 41,
   "metadata": {},
   "outputs": [
    {
     "data": {
      "text/plain": [
       "44"
      ]
     },
     "execution_count": 41,
     "metadata": {},
     "output_type": "execute_result"
    }
   ],
   "source": [
    "gc.collect()"
   ]
  },
  {
   "cell_type": "code",
   "execution_count": 42,
   "metadata": {},
   "outputs": [],
   "source": [
    "df_relation.to_json(\"relationship2018_clean.json\", orient='table')"
   ]
  },
  {
   "cell_type": "code",
   "execution_count": 43,
   "metadata": {},
   "outputs": [],
   "source": [
    "df_relation = pd.read_json('relationship2018_clean.json', orient='table')"
   ]
  },
  {
   "cell_type": "code",
   "execution_count": 44,
   "metadata": {},
   "outputs": [
    {
     "data": {
      "text/plain": [
       "944.2022771835327"
      ]
     },
     "execution_count": 44,
     "metadata": {},
     "output_type": "execute_result"
    }
   ],
   "source": [
    "df_relation.memory_usage(deep=True).sum()/1024**2"
   ]
  },
  {
   "cell_type": "code",
   "execution_count": 45,
   "metadata": {},
   "outputs": [
    {
     "data": {
      "text/html": [
       "<div>\n",
       "<style scoped>\n",
       "    .dataframe tbody tr th:only-of-type {\n",
       "        vertical-align: middle;\n",
       "    }\n",
       "\n",
       "    .dataframe tbody tr th {\n",
       "        vertical-align: top;\n",
       "    }\n",
       "\n",
       "    .dataframe thead th {\n",
       "        text-align: right;\n",
       "    }\n",
       "</style>\n",
       "<table border=\"1\" class=\"dataframe\">\n",
       "  <thead>\n",
       "    <tr style=\"text-align: right;\">\n",
       "      <th></th>\n",
       "      <th>author</th>\n",
       "      <th>author_flair_css_class</th>\n",
       "      <th>author_flair_text</th>\n",
       "      <th>body</th>\n",
       "      <th>can_gild</th>\n",
       "      <th>controversiality</th>\n",
       "      <th>created_utc</th>\n",
       "      <th>distinguished</th>\n",
       "      <th>edited</th>\n",
       "      <th>gilded</th>\n",
       "      <th>...</th>\n",
       "      <th>author_flair_type</th>\n",
       "      <th>rte_mode</th>\n",
       "      <th>collapsed</th>\n",
       "      <th>collapsed_reason</th>\n",
       "      <th>subreddit_name_prefixed</th>\n",
       "      <th>author_created_utc</th>\n",
       "      <th>author_fullname</th>\n",
       "      <th>gildings</th>\n",
       "      <th>author_patreon_flair</th>\n",
       "      <th>gender</th>\n",
       "    </tr>\n",
       "  </thead>\n",
       "  <tbody>\n",
       "    <tr>\n",
       "      <th>0</th>\n",
       "      <td>postboxer</td>\n",
       "      <td>NaN</td>\n",
       "      <td>NaN</td>\n",
       "      <td>I think you might feel less guilty if you talk...</td>\n",
       "      <td>True</td>\n",
       "      <td>0</td>\n",
       "      <td>1514764821</td>\n",
       "      <td>NaN</td>\n",
       "      <td>0</td>\n",
       "      <td>0</td>\n",
       "      <td>...</td>\n",
       "      <td>NaN</td>\n",
       "      <td>NaN</td>\n",
       "      <td>NaN</td>\n",
       "      <td>NaN</td>\n",
       "      <td>NaN</td>\n",
       "      <td>NaN</td>\n",
       "      <td>NaN</td>\n",
       "      <td>None</td>\n",
       "      <td>NaN</td>\n",
       "      <td>m</td>\n",
       "    </tr>\n",
       "    <tr>\n",
       "      <th>1</th>\n",
       "      <td>Deadlyantigen</td>\n",
       "      <td>NaN</td>\n",
       "      <td>NaN</td>\n",
       "      <td>I doubt she's trying to escape the situation. ...</td>\n",
       "      <td>True</td>\n",
       "      <td>0</td>\n",
       "      <td>1514764829</td>\n",
       "      <td>NaN</td>\n",
       "      <td>0</td>\n",
       "      <td>0</td>\n",
       "      <td>...</td>\n",
       "      <td>NaN</td>\n",
       "      <td>NaN</td>\n",
       "      <td>NaN</td>\n",
       "      <td>NaN</td>\n",
       "      <td>NaN</td>\n",
       "      <td>NaN</td>\n",
       "      <td>NaN</td>\n",
       "      <td>None</td>\n",
       "      <td>NaN</td>\n",
       "      <td>m</td>\n",
       "    </tr>\n",
       "    <tr>\n",
       "      <th>2</th>\n",
       "      <td>um_can_you_not</td>\n",
       "      <td>NaN</td>\n",
       "      <td>NaN</td>\n",
       "      <td>Are you going to address my first question?\\n\\...</td>\n",
       "      <td>True</td>\n",
       "      <td>0</td>\n",
       "      <td>1514764883</td>\n",
       "      <td>NaN</td>\n",
       "      <td>0</td>\n",
       "      <td>0</td>\n",
       "      <td>...</td>\n",
       "      <td>NaN</td>\n",
       "      <td>NaN</td>\n",
       "      <td>NaN</td>\n",
       "      <td>NaN</td>\n",
       "      <td>NaN</td>\n",
       "      <td>NaN</td>\n",
       "      <td>NaN</td>\n",
       "      <td>None</td>\n",
       "      <td>NaN</td>\n",
       "      <td>f</td>\n",
       "    </tr>\n",
       "    <tr>\n",
       "      <th>3</th>\n",
       "      <td>sushi594</td>\n",
       "      <td>NaN</td>\n",
       "      <td>NaN</td>\n",
       "      <td>why are you even considering not giving your s...</td>\n",
       "      <td>True</td>\n",
       "      <td>0</td>\n",
       "      <td>1514764948</td>\n",
       "      <td>NaN</td>\n",
       "      <td>0</td>\n",
       "      <td>0</td>\n",
       "      <td>...</td>\n",
       "      <td>NaN</td>\n",
       "      <td>NaN</td>\n",
       "      <td>NaN</td>\n",
       "      <td>NaN</td>\n",
       "      <td>NaN</td>\n",
       "      <td>NaN</td>\n",
       "      <td>NaN</td>\n",
       "      <td>None</td>\n",
       "      <td>NaN</td>\n",
       "      <td>f</td>\n",
       "    </tr>\n",
       "    <tr>\n",
       "      <th>4</th>\n",
       "      <td>AutoModerator</td>\n",
       "      <td>NaN</td>\n",
       "      <td>NaN</td>\n",
       "      <td>The above submission has been **removed** beca...</td>\n",
       "      <td>True</td>\n",
       "      <td>0</td>\n",
       "      <td>1514764950</td>\n",
       "      <td>moderator</td>\n",
       "      <td>0</td>\n",
       "      <td>0</td>\n",
       "      <td>...</td>\n",
       "      <td>NaN</td>\n",
       "      <td>NaN</td>\n",
       "      <td>NaN</td>\n",
       "      <td>NaN</td>\n",
       "      <td>NaN</td>\n",
       "      <td>NaN</td>\n",
       "      <td>NaN</td>\n",
       "      <td>None</td>\n",
       "      <td>NaN</td>\n",
       "      <td>m</td>\n",
       "    </tr>\n",
       "  </tbody>\n",
       "</table>\n",
       "<p>5 rows × 52 columns</p>\n",
       "</div>"
      ],
      "text/plain": [
       "           author author_flair_css_class author_flair_text  \\\n",
       "0       postboxer                    NaN               NaN   \n",
       "1   Deadlyantigen                    NaN               NaN   \n",
       "2  um_can_you_not                    NaN               NaN   \n",
       "3        sushi594                    NaN               NaN   \n",
       "4   AutoModerator                    NaN               NaN   \n",
       "\n",
       "                                                body  can_gild  \\\n",
       "0  I think you might feel less guilty if you talk...      True   \n",
       "1  I doubt she's trying to escape the situation. ...      True   \n",
       "2  Are you going to address my first question?\\n\\...      True   \n",
       "3  why are you even considering not giving your s...      True   \n",
       "4  The above submission has been **removed** beca...      True   \n",
       "\n",
       "   controversiality  created_utc distinguished  edited  gilded  ...  \\\n",
       "0                 0   1514764821           NaN       0       0  ...   \n",
       "1                 0   1514764829           NaN       0       0  ...   \n",
       "2                 0   1514764883           NaN       0       0  ...   \n",
       "3                 0   1514764948           NaN       0       0  ...   \n",
       "4                 0   1514764950     moderator       0       0  ...   \n",
       "\n",
       "  author_flair_type  rte_mode collapsed collapsed_reason  \\\n",
       "0               NaN       NaN       NaN              NaN   \n",
       "1               NaN       NaN       NaN              NaN   \n",
       "2               NaN       NaN       NaN              NaN   \n",
       "3               NaN       NaN       NaN              NaN   \n",
       "4               NaN       NaN       NaN              NaN   \n",
       "\n",
       "  subreddit_name_prefixed  author_created_utc  author_fullname  gildings  \\\n",
       "0                     NaN                 NaN              NaN      None   \n",
       "1                     NaN                 NaN              NaN      None   \n",
       "2                     NaN                 NaN              NaN      None   \n",
       "3                     NaN                 NaN              NaN      None   \n",
       "4                     NaN                 NaN              NaN      None   \n",
       "\n",
       "  author_patreon_flair gender  \n",
       "0                  NaN      m  \n",
       "1                  NaN      m  \n",
       "2                  NaN      f  \n",
       "3                  NaN      f  \n",
       "4                  NaN      m  \n",
       "\n",
       "[5 rows x 52 columns]"
      ]
     },
     "execution_count": 45,
     "metadata": {},
     "output_type": "execute_result"
    }
   ],
   "source": [
    "df_relation.head()"
   ]
  },
  {
   "cell_type": "code",
   "execution_count": null,
   "metadata": {},
   "outputs": [],
   "source": []
  }
 ],
 "metadata": {
  "kernelspec": {
   "display_name": "Python 3",
   "language": "python",
   "name": "python3"
  },
  "language_info": {
   "codemirror_mode": {
    "name": "ipython",
    "version": 3
   },
   "file_extension": ".py",
   "mimetype": "text/x-python",
   "name": "python",
   "nbconvert_exporter": "python",
   "pygments_lexer": "ipython3",
   "version": "3.7.3"
  }
 },
 "nbformat": 4,
 "nbformat_minor": 4
}
